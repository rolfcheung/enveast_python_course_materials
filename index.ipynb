{
 "cells": [
  {
   "cell_type": "markdown",
   "metadata": {},
   "source": [
    "# [Introduction to Python in Environmental Sciences](https://ueapy.github.io/enveast_python_course/)\n",
    "*EnvEast & Cefas workshop*"
   ]
  },
  {
   "cell_type": "markdown",
   "metadata": {},
   "source": [
    "The full notebook listing is available on [Github](https://github.com/ueapy/enveast_python_course_materials)."
   ]
  },
  {
   "cell_type": "markdown",
   "metadata": {},
   "source": [
    "## Index\n",
    "\n",
    "#### Day 1\n",
    "1. [Introduction](Day_1/00-Introduction.ipynb)\n",
    "2. [How to Run Python Code](Day_1/01-How-to-Run-Python-Code.ipynb)\n",
    "3. [Basic Python Syntax](Day_1/02-Basic-Python-Syntax.ipynb)\n",
    "4. [Python Semantics: Variables](Day_1/03-Semantics-Variables.ipynb)\n",
    "5. [Python Semantics: Operators](Day_1/04-Semantics-Operators.ipynb)\n",
    "6. [Built-In Scalar Types](Day_1/05-Built-in-Scalar-Types.ipynb)\n",
    "7. [Built-In Data Structures](Day_1/06-Built-in-Data-Structures.ipynb)\n",
    "8. [Exercise: Try Python Basics](Day_1/07-Ex-Try-Python-Basics.ipynb)\n",
    "9. [Jupyter Notebook](Day_1/08-Jupyter-Notebook.ipynb)\n",
    "10. [Control Flow Statements](Day_1/09-Control-Flow-Statements.ipynb)\n",
    "11. [Defining Functions](Day_1/10-Defining-Functions.ipynb)\n",
    "12. [Exercise: Build a Program](Day_1/11-Ex-Build-A-Program.ipynb)\n",
    "13. [Modules and Packages](Day_1/12-Modules-and-Packages.ipynb)\n",
    "14. [Exercise: Create a module](Day_1/13-Ex-Create-module.ipynb)\n",
    "#### Day 2\n",
    "15. [Introduction to numpy](Day_2/14-Numpy-Intro.ipynb)\n",
    "16. [Introduction to matplotlib](Day_2/15-Matplotlib.ipynb)\n",
    "17. [Introduction to scipy](Day_2/16-Scipy-Intro.ipynb)\n",
    "18. [Introduction to pandas](Day_2/17-Pandas-Intro.ipynb)\n",
    "#### Day 3\n",
    "19. [Introduction to basemap](Day_3/18-Basemap-Intro.ipynb)\n",
    "20. [Introduction to cartopy](Day_3/19-Cartopy-Intro.ipynb)\n",
    "21. [Introduction to netCDF](Day_3/20-NetCDF-Intro.ipynb)\n",
    "22. [Introduction to shapefiles](Day_3/21-Shapefiles-Intro.ipynb)\n",
    "23. [Final Micro Project](Day_3/22-final-project.ipynb)"
   ]
  }
 ],
 "metadata": {
  "anaconda-cloud": {},
  "kernelspec": {
   "display_name": "Python [default]",
   "language": "python",
   "name": "python3"
  },
  "language_info": {
   "codemirror_mode": {
    "name": "ipython",
    "version": 3
   },
   "file_extension": ".py",
   "mimetype": "text/x-python",
   "name": "python",
   "nbconvert_exporter": "python",
   "pygments_lexer": "ipython3",
   "version": "3.5.2"
  }
 },
 "nbformat": 4,
 "nbformat_minor": 0
}
