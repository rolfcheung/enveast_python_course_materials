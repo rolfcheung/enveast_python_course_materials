{
 "cells": [
  {
   "cell_type": "markdown",
   "metadata": {},
   "source": [
    "# Excercsie 1"
   ]
  },
  {
   "cell_type": "code",
   "execution_count": null,
   "metadata": {
    "collapsed": true
   },
   "outputs": [],
   "source": [
    "# First of all, lets read some data from a CSV file. \n",
    "#\"Figure 1. Average Global Sea Surface Temperature, 1880-2015\",,,\n",
    "#Source: EPA's Climate Change Indicators in the United States: www.epa.gov/climate-indicators,,,\"Data source: NOAA, 2016\",,,\n",
    "# Units: temperature anomaly (°F),,,\n",
    "# https://www.epa.gov/sites/production/files/2016-08/sea-surface-temp_fig-1.csv \n",
    "\n",
    "# Import our libraries\n",
    "import csv\n",
    "import matplotlib.pyplot as plt\n",
    "import os\n",
    "import numpy as np\n",
    "%matplotlib inline"
   ]
  },
  {
   "cell_type": "code",
   "execution_count": null,
   "metadata": {
    "collapsed": true
   },
   "outputs": [],
   "source": [
    "file_name = os.path.join(os.path.pardir, 'data', 'sea-surface-temp_fig-1.csv')"
   ]
  },
  {
   "cell_type": "code",
   "execution_count": null,
   "metadata": {
    "collapsed": false
   },
   "outputs": [],
   "source": [
    "# Header is 6 lines and we are going to read in the data\n",
    "skip_rows = 6\n",
    "\n",
    "# Read 'file_name' and call it 'data' \n",
    "# This is a simple .csv file. Go into the folder 'Data' and open it in Excel if you don't believe us! \n",
    "data = np.genfromtxt(file_name, delimiter=',', skip_header=skip_rows, names=True,\n",
    "                     dtype=None)\n",
    "# Name the data\n",
    "years = data['Year']\n",
    "temperature = ((data['Annual_anomaly'] - 32)*5)/9"
   ]
  },
  {
   "cell_type": "code",
   "execution_count": null,
   "metadata": {
    "collapsed": false,
    "scrolled": true
   },
   "outputs": [],
   "source": [
    "### Time to create our plot and give it a red colour because it is alarming!\n",
    "fig = plt.figure()\n",
    "ax = fig.add_subplot(111)\n",
    "\n",
    "ax.plot(years, temperature, c='red')\n",
    "\n",
    "### How about adding some labels? \n",
    "ax.set_xlabel('Year')\n",
    "ax.set_ylabel('Temperature (oC)')\n",
    "ax.set_title('Annual Anomaly')"
   ]
  },
  {
   "cell_type": "markdown",
   "metadata": {},
   "source": [
    "# Exercise 2 "
   ]
  },
  {
   "cell_type": "code",
   "execution_count": null,
   "metadata": {
    "collapsed": false
   },
   "outputs": [],
   "source": [
    "file_name = os.path.join(os.path.pardir, 'data', 'Shelf_sea_nuts.csv')\n",
    "# Header is 6 lines and we are going to read in the data\n",
    "skip_rows = 1\n",
    "\n",
    "# Read 'file_name' and call it 'data' \n",
    "# This is a simple .csv file. Go into the folder 'Data' and open it in Excel if you don't believe us! \n",
    "data = np.genfromtxt(file_name, delimiter=',', names=True, dtype=None)\n",
    "print(data.dtype) # Hint # \n",
    "\n",
    "# Name the data based on the column names\n",
    "ICES_year = data['Year']\n",
    "ICES_temperature = data['TEMP']\n",
    "ICES_Oxygen = data['O2']\n",
    "ICES_Nitrate = data['NO3']"
   ]
  },
  {
   "cell_type": "code",
   "execution_count": null,
   "metadata": {
    "collapsed": false
   },
   "outputs": [],
   "source": [
    "fig = plt.figure()\n",
    "ax = fig.add_subplot(111)\n",
    "ax.scatter(ICES_year, ICES_temperature, color='red', alpha=0.1) \n",
    "ax.set_xlabel('Year')\n",
    "ax.set_ylabel('Temperarure (oC)')\n",
    "ax.set_title('Temperature on the EU Shelf')\n",
    "\n",
    "fig = plt.figure()\n",
    "ax = fig.add_subplot(111)\n",
    "ax.scatter(ICES_year, ICES_Nitrate, color='green', alpha=0.1) \n",
    "ax.set_xlabel('Year')\n",
    "ax.set_ylabel('Nitrate (umol/l)')\n",
    "ax.set_title('Nitrate on the EU Shelf')\n",
    "\n",
    "fig = plt.figure()\n",
    "ax = fig.add_subplot(111)\n",
    "ax.scatter(ICES_year, ICES_Oxygen, color='blue', alpha=0.1) \n",
    "ax.set_xlabel('Year')\n",
    "ax.set_ylabel('Oxygen (umol/l)')\n",
    "ax.set_title('Oxygen on the EU Shelf')"
   ]
  }
 ],
 "metadata": {
  "anaconda-cloud": {},
  "kernelspec": {
   "display_name": "Python [default]",
   "language": "python",
   "name": "python3"
  },
  "language_info": {
   "codemirror_mode": {
    "name": "ipython",
    "version": 3
   },
   "file_extension": ".py",
   "mimetype": "text/x-python",
   "name": "python",
   "nbconvert_exporter": "python",
   "pygments_lexer": "ipython3",
   "version": "3.5.2"
  }
 },
 "nbformat": 4,
 "nbformat_minor": 1
}
