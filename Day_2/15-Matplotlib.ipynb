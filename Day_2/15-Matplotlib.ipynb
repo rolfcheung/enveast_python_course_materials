{
 "cells": [
  {
   "cell_type": "markdown",
   "metadata": {
    "nbpresent": {
     "id": "80243624-0a24-4f0c-a5b2-aa3598627698"
    }
   },
   "source": [
    "# Matplot lib - All your plotting functions under one roof (almost!)"
   ]
  },
  {
   "cell_type": "markdown",
   "metadata": {
    "nbpresent": {
     "id": "e4c90f27-1165-4bd4-bcea-8ede519f39ee"
    }
   },
   "source": [
    "\n",
    "\n",
    "Matplotlib is a simple (most of the time) plotting library. \n",
    "\n",
    "So let's have a try!\n",
    "\n"
   ]
  },
  {
   "cell_type": "code",
   "execution_count": null,
   "metadata": {
    "collapsed": true
   },
   "outputs": [],
   "source": [
    "# This will plot a simple scatter graph of points. \n",
    "# The points will have all different sizes just for visual appearance, as well as varied colours\n",
    "%matplotlib inline\n",
    "# Import the required libraries\n",
    "import numpy as np\n",
    "import matplotlib.pyplot as plt"
   ]
  },
  {
   "cell_type": "code",
   "execution_count": null,
   "metadata": {
    "collapsed": false,
    "nbpresent": {
     "id": "c973a0ad-f5b1-430c-9dca-81a7bddf7b34"
    }
   },
   "outputs": [],
   "source": [
    "# Lets say we want to plot 50 points\n",
    "N = 50\n",
    "\n",
    "# Generate some random data\n",
    "x = np.random.rand(N)\n",
    "y = np.random.rand(N)\n",
    "\n",
    "# Add a random colour field\n",
    "colors = np.random.rand(N)\n",
    "\n",
    "# Alter the size of the particles randomly\n",
    "area = np.pi * (15 * np.random.rand(N))**2  # 0 to 15 point radiuses#\n",
    "\n",
    "# Here we create a figure in an object orientated fashion, and call is 'ax' \n",
    "fig = plt.figure()\n",
    "ax = fig.add_subplot(111)\n",
    "\n",
    "# Let's plot it! Simple right? Plot x, y. Alpha = the transparency of the points - very useful! \n",
    "ax.scatter(x, y, s=area, c=colors, alpha=0.5)\n",
    "\n",
    "# Now for some labels....and a title (they always help)\n",
    "ax.set_xlabel('Random x')\n",
    "ax.set_ylabel('Random y')\n",
    "ax.set_title('Awesome! (but kind of pointless...)')\n",
    "\n",
    "# Source: http://matplotlib.org/examples/shapes_and_collections/scatter_demo.html "
   ]
  },
  {
   "cell_type": "markdown",
   "metadata": {
    "nbpresent": {
     "id": "8ab1965a-5c3c-4d8c-84bb-0dc078abfdfd"
    }
   },
   "source": [
    "\n",
    "# Exercise 1\n",
    "\n",
    "## Now lets have a look at some real data! \n"
   ]
  },
  {
   "cell_type": "code",
   "execution_count": 181,
   "metadata": {
    "collapsed": true,
    "nbpresent": {
     "id": "14bf700e-8c92-4ade-bb3a-658446ba831e"
    }
   },
   "outputs": [],
   "source": [
    "# First of all, lets read some data from a CSV file. \n",
    "#\"Figure 1. Average Global Sea Surface Temperature, 1880-2015\",,,\n",
    "#Source: EPA's Climate Change Indicators in the United States: www.epa.gov/climate-indicators,,,\"Data source: NOAA, 2016\",,,\n",
    "# Units: temperature anomaly (°F),,,\n",
    "# https://www.epa.gov/sites/production/files/2016-08/sea-surface-temp_fig-1.csv \n",
    "\n",
    "# Import our libraries\n",
    "import csv\n",
    "import matplotlib.pyplot as plt\n",
    "import os"
   ]
  },
  {
   "cell_type": "code",
   "execution_count": 182,
   "metadata": {
    "collapsed": false
   },
   "outputs": [],
   "source": [
    "# We first need to find our file. \n",
    "file_name = os.path.join(os.path.pardir, 'data', 'sea-surface-temp_fig-1.csv')"
   ]
  },
  {
   "cell_type": "markdown",
   "metadata": {},
   "source": [
    "### 2. `numpy.genfromtxt()`"
   ]
  },
  {
   "cell_type": "code",
   "execution_count": 183,
   "metadata": {
    "collapsed": false
   },
   "outputs": [],
   "source": [
    "## Header is 6 lines and we are going to read in the data\n",
    "\n",
    "skip_rows = 6\n",
    "\n",
    "## Read 'file_name' and call it 'data' \n",
    "## This is a simple .csv file. Go into the folder 'Data' and open it in Excel if you don't believe us! \n",
    "## Set delimiter for csv, we will skip the headers, and names=True means that columns have names we will use. \n",
    "data = np.genfromtxt(file_name, delimiter=',', skip_header=skip_rows, names=True, dtype=None)\n",
    "\n",
    "## Name the data based on the column names\n",
    "years = data['Year']\n",
    "temperature = data['Annual_anomaly']"
   ]
  },
  {
   "cell_type": "markdown",
   "metadata": {},
   "source": [
    "Note: `pandas.read_csv()` function has a similar functionality and returns similar data structure."
   ]
  },
  {
   "cell_type": "markdown",
   "metadata": {},
   "source": [
    "### 3. Plot a line graph of Average Ocean Temperature from 1880-Present"
   ]
  },
  {
   "cell_type": "code",
   "execution_count": null,
   "metadata": {
    "collapsed": false
   },
   "outputs": [],
   "source": [
    "### Time to create our plot and give it a red colour because it is alarming!\n",
    "#fig = plt.figure()\n",
    "#ax = fig.add_subplot(111)\n",
    "\n",
    "#ax.plot(x_data, y_data, c='red')\n",
    "\n",
    "### How about adding some labels? \n",
    "#ax.set_xlabel('Year')\n",
    "#ax.set_ylabel('Temperature (oF)')\n",
    "#ax.set_title('Annual Anomaly')"
   ]
  },
  {
   "cell_type": "markdown",
   "metadata": {
    "nbpresent": {
     "id": "e007a07f-0f59-4564-9504-10914ba806b0"
    }
   },
   "source": [
    "## Now lets see if we can make some subplots"
   ]
  },
  {
   "cell_type": "code",
   "execution_count": 184,
   "metadata": {
    "collapsed": false
   },
   "outputs": [],
   "source": [
    "# Here we are going to loop over the same dataset twice and product a subplot with a different colour. \n",
    "# Two data arrays are created - uncomment 'data' to see what the output looks like. \n",
    "data = [temperature for i in range(2)] "
   ]
  },
  {
   "cell_type": "code",
   "execution_count": 185,
   "metadata": {
    "collapsed": false
   },
   "outputs": [],
   "source": [
    "# Create a colour scheme up to the value of 12. A simple array of numbers. \n",
    "colours = np.linspace(0.2,6,12) "
   ]
  },
  {
   "cell_type": "markdown",
   "metadata": {},
   "source": [
    "##### Trying playing with the value '6' what does it do and how does it effect the output? Why not try the other values too....maybe use 'b' to inset a cell below or comment the lines out so you have the origional code to go back too if you break it! "
   ]
  },
  {
   "cell_type": "code",
   "execution_count": 186,
   "metadata": {
    "collapsed": false
   },
   "outputs": [
    {
     "data": {
      "image/png": "[encoded data removed]",
      "text/plain": [
       "<matplotlib.figure.Figure at 0x7f1294f0be80>"
      ]
     },
     "metadata": {},
     "output_type": "display_data"
    }
   ],
   "source": [
    "# Set a figure of 2 Vertical, by 1 Horizonal \n",
    "fig, ax = plt.subplots(2, 1)\n",
    "\n",
    "# Loop over the two data arrays, \n",
    "for ix, arr, col in zip(ax.flat, data, colours):\n",
    "    ix.plot(arr, color=str(col))\n"
   ]
  },
  {
   "cell_type": "markdown",
   "metadata": {},
   "source": [
    "# Exercise 2"
   ]
  },
  {
   "cell_type": "markdown",
   "metadata": {},
   "source": [
    "#### The next section is based upon marine data taken from the ICES dataset on the European Continental Shelf "
   ]
  },
  {
   "cell_type": "code",
   "execution_count": 196,
   "metadata": {
    "collapsed": false
   },
   "outputs": [
    {
     "name": "stdout",
     "output_type": "stream",
     "text": [
      "[('Year', '<i8'), ('TEMP', '<f8'), ('O2', '<f8'), ('NO3', '<f8')]\n"
     ]
    }
   ],
   "source": [
    "file_name = os.path.join(os.path.pardir, 'data', 'Shelf_sea_nuts.csv')\n",
    "# Header is 6 lines and we are going to read in the data\n",
    "skip_rows = 1\n",
    "\n",
    "# Read 'file_name' and call it 'data' \n",
    "# This is a simple .csv file. Go into the folder 'Data' and open it in Excel if you don't believe us! \n",
    "data = np.genfromtxt(file_name, delimiter=',', names=True, dtype=None)\n",
    "print(data.dtype)\n",
    "\n",
    "# Name the data based on the column names\n",
    "#ICES_year = data['']\n",
    "#ICES_temperature = data['']\n",
    "#ICES_Oxygen = data['']\n",
    "#ICES_Nitrate = data['']"
   ]
  },
  {
   "cell_type": "markdown",
   "metadata": {},
   "source": [
    "### Try to produce three plots of the above data. \n",
    "The simple task is to produce a scatter plot for each variable above, changing the colour, and transparency of the points. \n",
    "\n",
    "If you have time, how about using numpy.mean to mean the data via year, and then plot a line graph. If you get this far, try changing the 'linestyle' or 'ls' as you have done with colour and transparency. "
   ]
  },
  {
   "cell_type": "code",
   "execution_count": 193,
   "metadata": {
    "collapsed": false
   },
   "outputs": [
    {
     "ename": "SyntaxError",
     "evalue": "invalid syntax (<ipython-input-193-5e5b9abb6779>, line 3)",
     "output_type": "error",
     "traceback": [
      "\u001b[0;36m  File \u001b[0;32m\"<ipython-input-193-5e5b9abb6779>\"\u001b[0;36m, line \u001b[0;32m3\u001b[0m\n\u001b[0;31m    ax.scatter(ICES_year, NO3, color=, alpha=)\u001b[0m\n\u001b[0m                                     ^\u001b[0m\n\u001b[0;31mSyntaxError\u001b[0m\u001b[0;31m:\u001b[0m invalid syntax\n"
     ]
    }
   ],
   "source": [
    "#fig = plt.figure()\n",
    "#ax = fig.add_subplot(111)\n",
    "\n",
    "#ax.???(???, ???, color=???, alpha=???)  # hint how about we try a scatter plot? \n",
    "#ax.set_xlabel('???')\n",
    "#ax.set_ylabel('???')\n",
    "#ax.set_title('???')"
   ]
  },
  {
   "cell_type": "markdown",
   "metadata": {},
   "source": [
    "### Scatter Plot and colour the points"
   ]
  },
  {
   "cell_type": "code",
   "execution_count": 198,
   "metadata": {
    "collapsed": false,
    "nbpresent": {
     "id": "6cb85cbd-6350-46c2-a60f-da7ba4272b78"
    }
   },
   "outputs": [
    {
     "data": {
      "text/plain": [
       "<matplotlib.text.Text at 0x7f128fc42be0>"
      ]
     },
     "execution_count": 198,
     "metadata": {},
     "output_type": "execute_result"
    },
    {
     "data": {
      "image/png": "[encoded data removed]",
      "text/plain": [
       "<matplotlib.figure.Figure at 0x7f128f679208>"
      ]
     },
     "metadata": {},
     "output_type": "display_data"
    },
    {
     "data": {
      "image/png": "[encoded data removed]",
      "text/plain": [
       "<matplotlib.figure.Figure at 0x7f128fbd9e80>"
      ]
     },
     "metadata": {},
     "output_type": "display_data"
    }
   ],
   "source": [
    "  # Create some random numbers\n",
    "n = 100000\n",
    "x = np.random.randn(n)\n",
    "y = (1.5 * x) + np.random.randn(n)\n",
    "\n",
    "\n",
    "# Plot data\n",
    "fig1 = plt.figure()\n",
    "ax = fig1.add_subplot(111)\n",
    "ax.plot(x,y,'.r')\n",
    "ax.set_xlabel('Random X')\n",
    "ax.set_ylabel('Random Y')\n",
    "\n",
    "# Estimate the 2D histogram\n",
    "nbins = 200\n",
    "H, xedges, yedges = np.histogram2d(x,y,bins=nbins)\n",
    "\n",
    "# H needs to be rotated and flipped\n",
    "H = np.rot90(H)\n",
    "H = np.flipud(H)\n",
    "\n",
    "# Mask zeros\n",
    "Hmasked = np.ma.masked_where(H==0,H) # Mask pixels with a value of zero\n",
    " \n",
    "# Plot 2D histogram using pcolor\n",
    "fig2 = plt.figure()\n",
    "ax = fig2.add_subplot(111)\n",
    "\n",
    "ax.pcolormesh(xedges,yedges,Hmasked)\n",
    "ax.set_xlabel('Random X distribution')\n",
    "ax.set_ylabel('Random Y distribution')"
   ]
  },
  {
   "cell_type": "markdown",
   "metadata": {},
   "source": [
    "### Contour plots"
   ]
  },
  {
   "cell_type": "code",
   "execution_count": null,
   "metadata": {
    "collapsed": false,
    "nbpresent": {
     "id": "a4be4e23-a94d-4b7d-881f-de656124dcfd"
    }
   },
   "outputs": [],
   "source": [
    "# Create a function for generating visual data\n",
    "def f(x,y):\n",
    "    return (1-x/2+x**5+y**3)*np.exp(-x**2-y**2)\n",
    "\n",
    "# Creates data\n",
    "n = 256\n",
    "x = np.linspace(-3,3,n)\n",
    "y = np.linspace(-3,3,n)\n",
    "X,Y = np.meshgrid(x,y)\n",
    "\n",
    "# Object orientated \n",
    "fig4 = plt.figure()\n",
    "ax = fig4.add_subplot(111)\n",
    "\n",
    "# Plot a contour plot\n",
    "ax.contourf(X, Y, f(X,Y), 8, alpha=.75, cmap=plt.cm.hot)\n",
    "C = ax.contour(X, Y, f(X,Y), 8, colors='black', linewidth=.5)\n",
    "\n",
    "# Do you want values inline with the contours? If so, uncomment me below!\n",
    "#ax.clabel(C, inline=1, fontsize=10)"
   ]
  },
  {
   "cell_type": "markdown",
   "metadata": {},
   "source": [
    "### Quiver Plots"
   ]
  },
  {
   "cell_type": "code",
   "execution_count": null,
   "metadata": {
    "collapsed": false
   },
   "outputs": [],
   "source": [
    "n = 8\n",
    "X,Y = np.mgrid[0:n,0:n]\n",
    "\n",
    "fig5 = plt.figure()\n",
    "ax = fig5.add_subplot(111)\n",
    "\n",
    "ax.quiver(X,Y)"
   ]
  },
  {
   "cell_type": "code",
   "execution_count": null,
   "metadata": {
    "collapsed": false,
    "scrolled": true
   },
   "outputs": [],
   "source": [
    "# Creates random data \n",
    "n = 8\n",
    "X,Y = np.mgrid[0:n,0:n]\n",
    "T = np.arctan2(Y-n/2.0, X-n/2.0)\n",
    "R = 10+np.sqrt((Y-n/2.0)**2+(X-n/2.0)**2)\n",
    "U,V = R*np.cos(T), R*np.sin(T)\n",
    "\n",
    "# Plots using object orientated way\n",
    "fig6 = plt.figure()\n",
    "ax = fig6.add_subplot(111)\n",
    "\n",
    "# Make a quiver plot. faceolour=allows it to be coloured. \n",
    "ax.quiver(X,Y,U,V,R, alpha=.5)\n",
    "ax.quiver(X,Y,U,V, facecolor='None', linewidth=.5)\n",
    " \n",
    "# Set the limits.\n",
    "ax.set_xlim(-1,n)\n",
    "ax.set_ylim(-1,n)"
   ]
  },
  {
   "cell_type": "markdown",
   "metadata": {},
   "source": [
    "## Sources: \n",
    "#### https://oceanpython.org/2013/02/25/2d-histogram/ \n",
    "#### https://www.labri.fr/perso/nrougier/teaching/matplotlib/"
   ]
  }
 ],
 "metadata": {
  "anaconda-cloud": {},
  "kernelspec": {
   "display_name": "Python [conda root]",
   "language": "python",
   "name": "conda-root-py"
  },
  "language_info": {
   "codemirror_mode": {
    "name": "ipython",
    "version": 3
   },
   "file_extension": ".py",
   "mimetype": "text/x-python",
   "name": "python",
   "nbconvert_exporter": "python",
   "pygments_lexer": "ipython3",
   "version": "3.5.2"
  },
  "nbpresent": {
   "slides": {
    "0def8933-36ce-4083-b26a-0661a1a2a116": {
     "id": "0def8933-36ce-4083-b26a-0661a1a2a116",
     "prev": "53ab1610-6f1a-4fc8-b24b-e40d920d7ceb",
     "regions": {
      "68eabbe8-3887-4c46-b94d-c0148183e603": {
       "attrs": {
        "height": 0.8,
        "width": 0.8,
        "x": 0.1,
        "y": 0.1
       },
       "content": {
        "cell": "4c52f1ce-98fc-4a38-8569-1e79f67bf0ee",
        "part": "whole"
       },
       "id": "68eabbe8-3887-4c46-b94d-c0148183e603"
      }
     }
    },
    "0e1bdc0f-c5f8-4d00-9657-4f3a78f0030c": {
     "id": "0e1bdc0f-c5f8-4d00-9657-4f3a78f0030c",
     "prev": "3bc5be16-2d36-4005-a40b-c023d27300d8",
     "regions": {
      "ce3cf658-98cf-4aa9-8875-3566578ccb6f": {
       "attrs": {
        "height": 0.8,
        "width": 0.8,
        "x": 0.1,
        "y": 0.1
       },
       "content": {
        "cell": "6100aaac-1c13-4cbb-83ee-5d1545171b7d",
        "part": "whole"
       },
       "id": "ce3cf658-98cf-4aa9-8875-3566578ccb6f"
      }
     }
    },
    "28fc96fd-5798-41c0-9388-8651637bd860": {
     "id": "28fc96fd-5798-41c0-9388-8651637bd860",
     "prev": "ee5b6ba5-0721-40fe-b5c7-598aed364a84",
     "regions": {
      "5bb62edc-0090-463a-8b20-26b2f7f4d966": {
       "attrs": {
        "height": 0.8,
        "width": 0.8,
        "x": 0.1,
        "y": 0.1
       },
       "content": {
        "cell": "823bdc5d-e1e5-4971-9b3a-f9e7d3cfad06",
        "part": "whole"
       },
       "id": "5bb62edc-0090-463a-8b20-26b2f7f4d966"
      }
     }
    },
    "2f2b80c2-7e7c-4cd6-9fca-054736469df5": {
     "id": "2f2b80c2-7e7c-4cd6-9fca-054736469df5",
     "prev": "41f4272e-776a-4897-8902-f52bd11f2403",
     "regions": {
      "b64992d5-9ed3-4d72-8048-be22ca112400": {
       "attrs": {
        "height": 0.8,
        "width": 0.8,
        "x": 0.1,
        "y": 0.1
       },
       "content": {
        "cell": "a4be4e23-a94d-4b7d-881f-de656124dcfd",
        "part": "whole"
       },
       "id": "b64992d5-9ed3-4d72-8048-be22ca112400"
      }
     }
    },
    "3bc5be16-2d36-4005-a40b-c023d27300d8": {
     "id": "3bc5be16-2d36-4005-a40b-c023d27300d8",
     "prev": "0def8933-36ce-4083-b26a-0661a1a2a116",
     "regions": {
      "80781489-c8b0-49cf-8da0-5c40f03eebf3": {
       "attrs": {
        "height": 0.8,
        "width": 0.8,
        "x": 0.1,
        "y": 0.1
       },
       "content": {
        "cell": "443f46bb-4d88-4218-8b57-0ce1deb8dac0",
        "part": "whole"
       },
       "id": "80781489-c8b0-49cf-8da0-5c40f03eebf3"
      }
     }
    },
    "41f4272e-776a-4897-8902-f52bd11f2403": {
     "id": "41f4272e-776a-4897-8902-f52bd11f2403",
     "prev": "e1c59565-6cdd-4ae4-97ff-29bf8096a690",
     "regions": {
      "d41986ab-fc7c-4a15-ba0e-d87c64905574": {
       "attrs": {
        "height": 0.8,
        "width": 0.8,
        "x": 0.1,
        "y": 0.1
       },
       "content": {
        "cell": "6cb85cbd-6350-46c2-a60f-da7ba4272b78",
        "part": "whole"
       },
       "id": "d41986ab-fc7c-4a15-ba0e-d87c64905574"
      }
     }
    },
    "53ab1610-6f1a-4fc8-b24b-e40d920d7ceb": {
     "id": "53ab1610-6f1a-4fc8-b24b-e40d920d7ceb",
     "prev": "7185aeb2-0ef0-4273-8e9f-bfb1bf65d603",
     "regions": {
      "346969fd-7bab-463e-b642-181a205b30b3": {
       "attrs": {
        "height": 0.8,
        "width": 0.8,
        "x": 0.1,
        "y": 0.1
       },
       "content": {
        "cell": "14bf700e-8c92-4ade-bb3a-658446ba831e",
        "part": "whole"
       },
       "id": "346969fd-7bab-463e-b642-181a205b30b3"
      }
     }
    },
    "7185aeb2-0ef0-4273-8e9f-bfb1bf65d603": {
     "id": "7185aeb2-0ef0-4273-8e9f-bfb1bf65d603",
     "prev": "75aad04f-fd31-4562-8a88-948385acf4d6",
     "regions": {
      "e32f853b-eaaf-4436-9d53-04c8e5b84a39": {
       "attrs": {
        "height": 0.8,
        "width": 0.8,
        "x": 0.1,
        "y": 0.1
       },
       "content": {
        "cell": "8ab1965a-5c3c-4d8c-84bb-0dc078abfdfd",
        "part": "whole"
       },
       "id": "e32f853b-eaaf-4436-9d53-04c8e5b84a39"
      }
     }
    },
    "75aad04f-fd31-4562-8a88-948385acf4d6": {
     "id": "75aad04f-fd31-4562-8a88-948385acf4d6",
     "prev": "e12a200a-d4bd-4598-acfc-6bcfac7f6144",
     "regions": {
      "e728912b-5975-4726-868c-19692a1bdaa3": {
       "attrs": {
        "height": 0.8,
        "width": 0.8,
        "x": 0.1,
        "y": 0.1
       },
       "content": {
        "cell": "c973a0ad-f5b1-430c-9dca-81a7bddf7b34",
        "part": "whole"
       },
       "id": "e728912b-5975-4726-868c-19692a1bdaa3"
      }
     }
    },
    "9d5a78f0-8f8c-48a6-80f1-b0e5de5d1f58": {
     "id": "9d5a78f0-8f8c-48a6-80f1-b0e5de5d1f58",
     "prev": null,
     "regions": {
      "fbb3ef4a-6e8d-4f4e-89ef-0d0d1d1d4dce": {
       "attrs": {
        "height": 0.8,
        "width": 0.8,
        "x": 0.1,
        "y": 0.1
       },
       "content": {
        "cell": "80243624-0a24-4f0c-a5b2-aa3598627698",
        "part": "whole"
       },
       "id": "fbb3ef4a-6e8d-4f4e-89ef-0d0d1d1d4dce"
      }
     }
    },
    "d1d8c39f-0da5-4c80-8841-2fa1020900a2": {
     "id": "d1d8c39f-0da5-4c80-8841-2fa1020900a2",
     "prev": "0e1bdc0f-c5f8-4d00-9657-4f3a78f0030c",
     "regions": {
      "21e351f5-dc13-4b5f-a8a8-1af11190f04e": {
       "attrs": {
        "height": 0.8,
        "width": 0.8,
        "x": 0.1,
        "y": 0.1
       },
       "content": {
        "cell": "f1cd1110-2114-4693-835c-88a7c8e02cf9",
        "part": "whole"
       },
       "id": "21e351f5-dc13-4b5f-a8a8-1af11190f04e"
      }
     }
    },
    "e12a200a-d4bd-4598-acfc-6bcfac7f6144": {
     "id": "e12a200a-d4bd-4598-acfc-6bcfac7f6144",
     "prev": "9d5a78f0-8f8c-48a6-80f1-b0e5de5d1f58",
     "regions": {
      "92b58e7b-bf92-46bf-8020-34346d7c99c2": {
       "attrs": {
        "height": 0.8,
        "width": 0.8,
        "x": 0.1,
        "y": 0.1
       },
       "content": {
        "cell": "e4c90f27-1165-4bd4-bcea-8ede519f39ee",
        "part": "whole"
       },
       "id": "92b58e7b-bf92-46bf-8020-34346d7c99c2"
      }
     }
    },
    "e1c59565-6cdd-4ae4-97ff-29bf8096a690": {
     "id": "e1c59565-6cdd-4ae4-97ff-29bf8096a690",
     "prev": "28fc96fd-5798-41c0-9388-8651637bd860",
     "regions": {
      "198fd109-8ab1-41cc-9561-ee457745dfb8": {
       "attrs": {
        "height": 0.8,
        "width": 0.8,
        "x": 0.1,
        "y": 0.1
       },
       "content": {
        "cell": "adcfc172-a4b1-4d58-bf93-e75c8743c6d0",
        "part": "whole"
       },
       "id": "198fd109-8ab1-41cc-9561-ee457745dfb8"
      }
     }
    },
    "ee5b6ba5-0721-40fe-b5c7-598aed364a84": {
     "id": "ee5b6ba5-0721-40fe-b5c7-598aed364a84",
     "prev": "d1d8c39f-0da5-4c80-8841-2fa1020900a2",
     "regions": {
      "15f43350-433e-458a-b0eb-f469b372c2c2": {
       "attrs": {
        "height": 0.8,
        "width": 0.8,
        "x": 0.1,
        "y": 0.1
       },
       "content": {
        "cell": "e007a07f-0f59-4564-9504-10914ba806b0",
        "part": "whole"
       },
       "id": "15f43350-433e-458a-b0eb-f469b372c2c2"
      }
     }
    }
   },
   "themes": {}
  }
 },
 "nbformat": 4,
 "nbformat_minor": 1
}
