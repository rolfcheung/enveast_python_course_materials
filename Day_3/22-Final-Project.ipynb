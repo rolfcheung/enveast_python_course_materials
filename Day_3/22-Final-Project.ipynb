{
 "cells": [
  {
   "cell_type": "markdown",
   "metadata": {},
   "source": [
    "# Final Micro Project"
   ]
  },
  {
   "cell_type": "markdown",
   "metadata": {},
   "source": [
    "The time has come to apply what you have learned throughout the course by doing a micro project. "
   ]
  },
  {
   "cell_type": "markdown",
   "metadata": {},
   "source": [
    "You have two options now.\n",
    "\n",
    "1. Choose from our list of projects\n",
    "    - [Significant Earthquakes](#Significant-Earthquakes)\n",
    "    - [World Ocean Atlas](#World-Ocean-Atlas)\n",
    "    - [Arctic Sea Ice](#Arctic-Sea-Ice)\n",
    "\n",
    "2. Use your own data\n",
    "\n",
    "    - If you find our ideas terrible or you are eager to start using Python in your work, you can use your own data.\n",
    "    - The only requirement is that data should be in a format that we have used in this course, preferably **CSV/ASCII** or **netCDF** file.\n",
    "    - We might not be very helpful, but at least we can help you get started and/or point you to a relevant resource."
   ]
  },
  {
   "cell_type": "markdown",
   "metadata": {},
   "source": [
    "## Significant Earthquakes"
   ]
  },
  {
   "cell_type": "code",
   "execution_count": null,
   "metadata": {
    "collapsed": true
   },
   "outputs": [],
   "source": [
    "http://earthquake.usgs.gov/earthquakes/search/"
   ]
  },
  {
   "cell_type": "markdown",
   "metadata": {},
   "source": [
    "## World Ocean Atlas"
   ]
  },
  {
   "cell_type": "markdown",
   "metadata": {},
   "source": [
    "Inspired by this blog post: https://ocefpaf.github.io/python4oceanographers/blog/2015/05/04/woa13/"
   ]
  },
  {
   "cell_type": "code",
   "execution_count": null,
   "metadata": {
    "collapsed": true
   },
   "outputs": [],
   "source": [
    "https://www.nodc.noaa.gov/OC5/WOA09/netcdf_data.html"
   ]
  },
  {
   "cell_type": "markdown",
   "metadata": {},
   "source": [
    "* Download 5-degree data of temperature and oxygen\n",
    "* Plot the data on the global map (do not use jet/rainbow colormap)\n",
    "* Calculate an average depth profile and plot it beside the map"
   ]
  },
  {
   "cell_type": "markdown",
   "metadata": {},
   "source": [
    "## Arctic Sea Ice"
   ]
  },
  {
   "cell_type": "code",
   "execution_count": null,
   "metadata": {
    "collapsed": true
   },
   "outputs": [],
   "source": [
    "import xarray as xr\n",
    "%matplotlib inline\n",
    "\n",
    "import cartopy.crs as ccrs\n",
    "import matplotlib.pyplot as plt"
   ]
  },
  {
   "cell_type": "code",
   "execution_count": null,
   "metadata": {
    "collapsed": false
   },
   "outputs": [],
   "source": [
    "ds = xr.open_mfdataset('../data/seaice_conc_monthly_*.nc')"
   ]
  },
  {
   "cell_type": "code",
   "execution_count": null,
   "metadata": {
    "collapsed": false
   },
   "outputs": [],
   "source": [
    "x = ds.longitude.values\n",
    "y = ds.latitude.values\n",
    "seaice = ds.seaice_conc_monthly_cdr.values"
   ]
  },
  {
   "cell_type": "code",
   "execution_count": null,
   "metadata": {
    "collapsed": false
   },
   "outputs": [],
   "source": [
    "fig = plt.figure(figsize=(5, 5))\n",
    "ax = fig.add_subplot(111, projection=ccrs.NorthPolarStereo(central_longitude=0))\n",
    "ax.coastlines(resolution='110m', linewidth=0.5)\n",
    "\n",
    "ax.gridlines()\n",
    "ax.set_extent([-180, 180, 40, 90], crs=ccrs.PlateCarree())\n",
    "\n",
    "# ax.pcolormesh(x, y, seaice[0, ...], transform=ccrs.PlateCarree(), cmap='Blues_r')\n",
    "ax.pcolormesh(x, y, seaice[1, ...]-seaice[0, ...], transform=ccrs.PlateCarree(), cmap='RdBu_r')\n",
    "fig.colorbar(_)"
   ]
  },
  {
   "cell_type": "code",
   "execution_count": null,
   "metadata": {
    "collapsed": true
   },
   "outputs": [],
   "source": [
    "https://nsidc.org/data/search/#keywords=sea+ice/sortKeys=score,,desc/facetFilters=%257B%257D/pageNumber=1/itemsPerPage=25\n",
    "ftp://sidads.colorado.edu/pub/DATASETS/NOAA/G02202_v2/north/monthly/seaice_conc_monthly_nh_f08_199109_v02r00.nc\n",
    "ftp://sidads.colorado.edu/pub/DATASETS/NOAA/G02202_v2/north/monthly/seaice_conc_monthly_nh_f17_201209_v02r00.nc"
   ]
  }
 ],
 "metadata": {
  "kernelspec": {
   "display_name": "Python 3",
   "language": "python",
   "name": "python3"
  },
  "language_info": {
   "codemirror_mode": {
    "name": "ipython",
    "version": 3
   },
   "file_extension": ".py",
   "mimetype": "text/x-python",
   "name": "python",
   "nbconvert_exporter": "python",
   "pygments_lexer": "ipython3",
   "version": "3.5.2"
  }
 },
 "nbformat": 4,
 "nbformat_minor": 1
}
