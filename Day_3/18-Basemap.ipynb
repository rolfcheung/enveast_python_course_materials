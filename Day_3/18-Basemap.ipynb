{
 "cells": [
  {
   "cell_type": "markdown",
   "metadata": {},
   "source": [
    "# Basemap"
   ]
  },
  {
   "cell_type": "markdown",
   "metadata": {},
   "source": [
    "#### Let's see the world from the eyes of Python \n",
    "#### First: import the libraries"
   ]
  },
  {
   "cell_type": "code",
   "execution_count": null,
   "metadata": {
    "collapsed": false,
    "scrolled": false
   },
   "outputs": [],
   "source": [
    "from mpl_toolkits.basemap import Basemap\n",
    "import matplotlib.pyplot as plt\n",
    "import numpy as np\n",
    "%matplotlib inline"
   ]
  },
  {
   "cell_type": "markdown",
   "metadata": {},
   "source": [
    "#### Now to use the Basemap function to create a map with a set projection define the centre point using lat/lon, resolution: l=low, h=high, and area_threshold: only plots coastal feastures greater than 1000km2"
   ]
  },
  {
   "cell_type": "code",
   "execution_count": null,
   "metadata": {
    "collapsed": false
   },
   "outputs": [],
   "source": [
    "my_map = Basemap(projection='ortho', lat_0=50, lon_0=-20,\n",
    "              resolution='l', area_thresh=1000.0)\n",
    " \n",
    "my_map.drawcoastlines()\n"
   ]
  },
  {
   "cell_type": "markdown",
   "metadata": {},
   "source": [
    "#### Now to add a little bit of detail. Draw country boundaries, fill in the continents with a colour, and add bathymetry."
   ]
  },
  {
   "cell_type": "code",
   "execution_count": null,
   "metadata": {
    "collapsed": false,
    "scrolled": true
   },
   "outputs": [],
   "source": [
    "my_map = Basemap(projection='ortho', lat_0=50, lon_0=-20,\n",
    "              resolution='l', area_thresh=1000.0)\n",
    " \n",
    "my_map.drawcoastlines()\n",
    "my_map.drawcountries()\n",
    "my_map.fillcontinents(color='coral')\n",
    "my_map.etopo()  # bathymetry \n"
   ]
  },
  {
   "cell_type": "markdown",
   "metadata": {},
   "source": [
    "#### Having some gridlines always helps too! But let's drop the bathymetry for now. "
   ]
  },
  {
   "cell_type": "code",
   "execution_count": null,
   "metadata": {
    "collapsed": false,
    "scrolled": false
   },
   "outputs": [],
   "source": [
    "my_map = Basemap(projection='ortho', lat_0=50, lon_0=-20,\n",
    "              resolution='l', area_thresh=1000.0)\n",
    " \n",
    "my_map.drawcoastlines()\n",
    "my_map.drawcountries()\n",
    "my_map.fillcontinents(color='coral')\n",
    "\n",
    "my_map.drawmeridians(np.arange(0, 360, 30))\n",
    "my_map.drawparallels(np.arange(-90, 90, 30))\n",
    "\n"
   ]
  },
  {
   "cell_type": "markdown",
   "metadata": {},
   "source": [
    "#### Want a different view? Try this...\n",
    "#### Here we have set the central point to a latitude value of: 0"
   ]
  },
  {
   "cell_type": "code",
   "execution_count": null,
   "metadata": {
    "collapsed": false,
    "scrolled": true
   },
   "outputs": [],
   "source": [
    "my_map = Basemap(projection='ortho', lat_0=0, lon_0=-20,\n",
    "              resolution='l', area_thresh=1000.0)\n",
    " \n",
    "my_map.drawcoastlines()\n",
    "my_map.drawcountries()\n",
    "my_map.fillcontinents(color='coral')\n",
    "my_map.drawmapboundary()\n",
    " \n",
    "my_map.drawmeridians(np.arange(0, 360, 30))\n",
    "my_map.drawparallels(np.arange(-90, 90, 30))\n"
   ]
  },
  {
   "cell_type": "markdown",
   "metadata": {},
   "source": [
    "#### Maybe we don't like this projection anymore. How about something else?"
   ]
  },
  {
   "cell_type": "code",
   "execution_count": null,
   "metadata": {
    "collapsed": false,
    "scrolled": true
   },
   "outputs": [],
   "source": [
    "my_map = Basemap(projection='robin', lat_0=0, lon_0=-20,\n",
    "              resolution='l', area_thresh=1000.0)\n",
    " \n",
    "my_map.drawcoastlines()\n",
    "my_map.drawcountries()\n",
    "my_map.fillcontinents(color='coral')\n",
    "my_map.drawmapboundary()\n",
    " \n",
    "my_map.drawmeridians(np.arange(0, 360, 30))\n",
    "my_map.drawparallels(np.arange(-90, 90, 30))\n",
    "\n",
    "# Find more here:\n",
    "# http://matplotlib.org/basemap/users/mapsetup.html "
   ]
  },
  {
   "cell_type": "markdown",
   "metadata": {},
   "source": [
    "## Can you find the Isle of Wight? "
   ]
  },
  {
   "cell_type": "code",
   "execution_count": null,
   "metadata": {
    "collapsed": false
   },
   "outputs": [],
   "source": [
    "my_map = Basemap(projection='lcc', lat_0=50, lon_0=-20,\n",
    "    resolution = 'l', area_thresh = 1000,\n",
    "    llcrnrlon=-2, llcrnrlat=50.5,\n",
    "    urcrnrlon=0, urcrnrlat=50.8)\n",
    " \n",
    "my_map.drawcoastlines()\n",
    "my_map.drawcountries()\n",
    "my_map.fillcontinents(color='coral')\n",
    "my_map.drawmapboundary()\n",
    "\n",
    "my_map.drawmeridians(np.arange(0, 360, 30))\n",
    "my_map.drawparallels(np.arange(-90, 90, 30))\n",
    " \n",
    "print(\"Apparently Python stole it for there supersnake cave.\")"
   ]
  },
  {
   "cell_type": "markdown",
   "metadata": {},
   "source": [
    "## Maybe it is too big for our 'area threshold' \n",
    "##### Tweak it down! "
   ]
  },
  {
   "cell_type": "code",
   "execution_count": null,
   "metadata": {
    "collapsed": false,
    "scrolled": false
   },
   "outputs": [],
   "source": [
    "my_map = Basemap(projection='lcc', lat_0=50, lon_0=-20,\n",
    "    resolution = 'l', area_thresh = 0.1,\n",
    "    llcrnrlon=-2, llcrnrlat=50.5,\n",
    "    urcrnrlon=0, urcrnrlat=50.8)\n",
    " \n",
    "my_map.drawcoastlines()\n",
    "my_map.drawcountries()\n",
    "my_map.fillcontinents(color='coral')\n",
    "my_map.drawmapboundary()\n",
    " \n",
    "my_map.drawmeridians(np.arange(0, 360, 30))\n",
    "my_map.drawparallels(np.arange(-90, 90, 30))\n",
    " \n",
    "print(\"I always thought people from the Isle of Wight were a little bit square...\")"
   ]
  },
  {
   "cell_type": "markdown",
   "metadata": {},
   "source": [
    "## Let's try and correct those squares by increasing the resolution. "
   ]
  },
  {
   "cell_type": "code",
   "execution_count": null,
   "metadata": {
    "collapsed": false
   },
   "outputs": [],
   "source": [
    "my_map = Basemap(projection='lcc', lat_0=50, lon_0=-20,\n",
    "    resolution = 'i', area_thresh = 0.1, # i = intermediate resoltion, f = full resolution (might take a while!)\n",
    "    llcrnrlon=-2, llcrnrlat=50.5,\n",
    "    urcrnrlon=0, urcrnrlat=50.8)\n",
    " \n",
    "my_map.drawcoastlines()\n",
    "my_map.drawcountries()\n",
    "my_map.fillcontinents(color='coral')\n",
    "my_map.drawmapboundary()\n",
    " \n",
    "my_map.drawmeridians(np.arange(0, 360, 30))\n",
    "my_map.drawparallels(np.arange(-90, 90, 30))\n",
    " \n",
    "print(\"That's a bit better!\")"
   ]
  },
  {
   "cell_type": "markdown",
   "metadata": {},
   "source": [
    "#### We'd like to know where Cowes is: the captial of the Isle of Wight"
   ]
  },
  {
   "cell_type": "code",
   "execution_count": null,
   "metadata": {
    "collapsed": false,
    "scrolled": true
   },
   "outputs": [],
   "source": [
    "my_map = Basemap(projection='lcc', lat_0=50, lon_0=-20,\n",
    "    resolution = 'i', area_thresh = 0.1, # i = intermediate resoltion, f = full resolution (might take a while!)\n",
    "    llcrnrlon=-2, llcrnrlat=50.5,\n",
    "    urcrnrlon=0, urcrnrlat=50.8)\n",
    " \n",
    "my_map.drawcoastlines()\n",
    "my_map.drawcountries()\n",
    "my_map.fillcontinents(color='coral')\n",
    "my_map.drawmapboundary()\n",
    " \n",
    "my_map.drawmeridians(np.arange(0, 360, 30))\n",
    "my_map.drawparallels(np.arange(-90, 90, 30))\n",
    "\n",
    "lon = -1.3126\n",
    "lat = 50.7507\n",
    "x,y = my_map(lon, lat)\n",
    "my_map.plot(x, y, 'bo', markersize=12)\n"
   ]
  },
  {
   "cell_type": "markdown",
   "metadata": {},
   "source": [
    "#### How about Portsmouth and Southampton too?"
   ]
  },
  {
   "cell_type": "code",
   "execution_count": null,
   "metadata": {
    "collapsed": false,
    "scrolled": true
   },
   "outputs": [],
   "source": [
    "my_map = Basemap(projection='lcc', lat_0=50, lon_0=-20,\n",
    "    resolution = 'i', area_thresh = 0.1, # i = intermediate resoltion, f = full resolution (might take a while!)\n",
    "    llcrnrlon=-2, llcrnrlat=50.5,\n",
    "    urcrnrlon=0, urcrnrlat=50.8)\n",
    " \n",
    "my_map.drawcoastlines()\n",
    "my_map.drawcountries()\n",
    "my_map.fillcontinents(color='coral')\n",
    "my_map.drawmapboundary()\n",
    " \n",
    "my_map.drawmeridians(np.arange(0, 360, 30))\n",
    "my_map.drawparallels(np.arange(-90, 90, 30))\n",
    " \n",
    "lons = [-1.3126, -1.1010, -1.4043]\n",
    "lats = [50.7507, 50.8429, 50.9096]\n",
    "x,y = my_map(lons, lats)\n",
    "my_map.plot(x, y, 'bo', markersize=10)\n"
   ]
  },
  {
   "cell_type": "markdown",
   "metadata": {},
   "source": [
    "#### Labels always help "
   ]
  },
  {
   "cell_type": "code",
   "execution_count": null,
   "metadata": {
    "collapsed": false,
    "scrolled": true
   },
   "outputs": [],
   "source": [
    "my_map = Basemap(projection='lcc', lat_0=50, lon_0=-20,\n",
    "    resolution = 'i', area_thresh = 0.1, # i = intermediate resoltion, f = full resolution (might take a while!)\n",
    "    llcrnrlon=-2, llcrnrlat=50.5,\n",
    "    urcrnrlon=0, urcrnrlat=50.8)\n",
    " \n",
    "my_map.drawcoastlines()\n",
    "my_map.drawcountries()\n",
    "my_map.fillcontinents(color='coral')\n",
    "my_map.drawmapboundary()\n",
    " \n",
    "my_map.drawmeridians(np.arange(0, 360, 30))\n",
    "my_map.drawparallels(np.arange(-90, 90, 30))\n",
    " \n",
    "lons = [-1.3126, -1.1010, -1.4043]\n",
    "lats = [50.7507, 50.8429, 50.9096]\n",
    "x,y = my_map(lons, lats)\n",
    "my_map.plot(x, y, 'bo', markersize=10)\n",
    "\n",
    "labels = ['Cowes', 'Portsmouth', 'Southampton']\n",
    "for label, xpt, ypt in zip(labels, x, y):\n",
    "    plt.text(xpt, ypt, label)"
   ]
  },
  {
   "cell_type": "markdown",
   "metadata": {},
   "source": [
    "#### Now to offset the labels slightly "
   ]
  },
  {
   "cell_type": "code",
   "execution_count": null,
   "metadata": {
    "collapsed": false
   },
   "outputs": [],
   "source": [
    "my_map = Basemap(projection='lcc', lat_0=50, lon_0=-20,\n",
    "    resolution = 'i', area_thresh = 0.1, # i = intermediate resoltion, f = full resolution (might take a while!)\n",
    "    llcrnrlon=-2, llcrnrlat=50.5,\n",
    "    urcrnrlon=0, urcrnrlat=50.8)\n",
    " \n",
    "my_map.drawcoastlines()\n",
    "my_map.drawcountries()\n",
    "my_map.fillcontinents(color='coral')\n",
    "my_map.drawmapboundary()\n",
    " \n",
    "my_map.drawmeridians(np.arange(0, 360, 30))\n",
    "my_map.drawparallels(np.arange(-90, 90, 30))\n",
    " \n",
    "lons = [-1.3126, -1.1010, -1.4043]\n",
    "lats = [50.7507, 50.8429, 50.9096]\n",
    "x,y = my_map(lons, lats)\n",
    "my_map.plot(x, y, 'bo', markersize=10)\n",
    "\n",
    "labels = ['Cowes', 'Portsmouth', 'Southampton']\n",
    "for label, xpt, ypt in zip(labels, x, y):\n",
    "    plt.text(xpt-7000, ypt+3000, label)"
   ]
  },
  {
   "cell_type": "markdown",
   "metadata": {},
   "source": [
    "# Can you create your own map and zoom into Norfolk, label Norwich, Lowestoft and Sherringham. "
   ]
  },
  {
   "cell_type": "code",
   "execution_count": null,
   "metadata": {
    "collapsed": true
   },
   "outputs": [],
   "source": []
  },
  {
   "cell_type": "code",
   "execution_count": null,
   "metadata": {
    "collapsed": true
   },
   "outputs": [],
   "source": [
    "# source: http://introtopython.org/visualization_earthquakes.html"
   ]
  }
 ],
 "metadata": {
  "anaconda-cloud": {},
  "kernelspec": {
   "display_name": "Python [default]",
   "language": "python",
   "name": "python3"
  },
  "language_info": {
   "codemirror_mode": {
    "name": "ipython",
    "version": 3
   },
   "file_extension": ".py",
   "mimetype": "text/x-python",
   "name": "python",
   "nbconvert_exporter": "python",
   "pygments_lexer": "ipython3",
   "version": "3.5.2"
  }
 },
 "nbformat": 4,
 "nbformat_minor": 1
}
