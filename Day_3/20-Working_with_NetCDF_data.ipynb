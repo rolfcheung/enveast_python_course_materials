{
 "cells": [
  {
   "cell_type": "markdown",
   "metadata": {
    "slideshow": {
     "slide_type": "slide"
    }
   },
   "source": [
    "# The netCDF file format"
   ]
  },
  {
   "cell_type": "markdown",
   "metadata": {},
   "source": [
    "* netCDF is a collection of formats for storing arrays\n",
    "netCDF, netCDF4, HDF5\n",
    "* Developed by Unidata-UCAR\n",
    "* auxilary information about each variable can be added\n",
    "* readable text equivalent called CDL (use ncdump/ncgen)"
   ]
  },
  {
   "cell_type": "markdown",
   "metadata": {
    "slideshow": {
     "slide_type": "subslide"
    }
   },
   "source": [
    "## Data model:\n",
    "\n",
    "* Variables: N-dimensional arrays of data.\n",
    "* Dimensions:\n",
    "    describe the axes of the data arrays.\n",
    "* Attributes:\n",
    "    annotate variables or files with small notes or supplementary metadata."
   ]
  },
  {
   "cell_type": "markdown",
   "metadata": {
    "slideshow": {
     "slide_type": "slide"
    }
   },
   "source": [
    "# Working With netCDF files using xarray"
   ]
  },
  {
   "cell_type": "markdown",
   "metadata": {},
   "source": [
    "* Alternative to plain netCDF4 access from python. \n",
    "\n",
    "* Brings the power of pandas to the physical sciences, by providing N-dimensional variants of the core pandas data structures:\n",
    "\n",
    "Series and DataFrame <--> DataArray and Dataset.\n",
    "\n",
    "    HTML documentation: http://xray.readthedocs.org\n"
   ]
  },
  {
   "cell_type": "markdown",
   "metadata": {
    "slideshow": {
     "slide_type": "subslide"
    }
   },
   "source": [
    "### The main advantages of using xarray versus plain netCDF4 are:\n",
    "\n",
    "* intelligent selection along labelled dimensions (and also indexes)\n",
    "* groupby operations\n",
    "* data alignment\n",
    "* IO (netcdf)\n",
    "* conversion from and to Pandas.DataFrames"
   ]
  },
  {
   "cell_type": "code",
   "execution_count": 5,
   "metadata": {
    "collapsed": true,
    "slideshow": {
     "slide_type": "subslide"
    }
   },
   "outputs": [],
   "source": [
    "import numpy as np\n",
    "import xarray as xr\n",
    "import matplotlib.pyplot as plt\n",
    "from mpl_toolkits.basemap import Basemap as bm"
   ]
  },
  {
   "cell_type": "code",
   "execution_count": 30,
   "metadata": {
    "collapsed": false
   },
   "outputs": [
    {
     "data": {
      "text/plain": [
       "<xarray.Dataset>\n",
       "Dimensions:     (latc: 360, level: 5, lonc: 396, time: 6)\n",
       "Coordinates:\n",
       "  * latc        (latc) float64 45.4 45.45 45.5 45.55 45.6 45.65 45.7 45.75 ...\n",
       "  * level       (level) float64 1.0 6.0 11.0 16.0 21.0\n",
       "  * lonc        (lonc) float64 -17.5 -17.42 -17.34 -17.26 -17.18 -17.1 ...\n",
       "  * time        (time) datetime64[ns] 1996-02-01T01:00:00 ...\n",
       "Data variables:\n",
       "    bathymetry  (latc, lonc) float64 nan nan nan nan nan nan nan nan nan nan ...\n",
       "    h           (time, level, latc, lonc) float64 nan nan nan nan nan nan ...\n",
       "    temp        (time, level, latc, lonc) float64 nan nan nan nan nan nan ...\n",
       "Attributes:\n",
       "    title: North West European Shelf 3nm\n",
       "    history: Sun Nov 20 00:54:48 2016: ncks -v time,latc,lonc,level,temp,bathymetry,h -d time,0,120,24 -d level,1,25,5 /gpfs/afmcefas/share/nwes/36x36_old/timebase/nwes-3d-199602.nc cefas_GETM_nwes.nc\n",
       "Mon May  9 18:50:36 2016: ncatted -a units,time,o,c,seconds since 1996-01-01 00:00:00 /gpfs/afmcefas/share/nwes/36x36_old//timebase//nwes-3d-199602.nc\n",
       "Mon May  9 17:12:29 2016: ncap2 -s time=time+2678400 /gpfs/afmcefas/share/nwes/36x36_old//nwes-3d-199602.nc /gpfs/afmcefas/share/nwes/36x36_old//timebase//nwe...\n",
       "    NCO: 4.4.8\n",
       "    nco_openmp_thread_number: 1"
      ]
     },
     "execution_count": 30,
     "metadata": {},
     "output_type": "execute_result"
    }
   ],
   "source": [
    "GETM = xr.open_dataset('../data/cefas_GETM_nwes.nc4')\n",
    "GETM"
   ]
  },
  {
   "cell_type": "code",
   "execution_count": 41,
   "metadata": {
    "collapsed": false
   },
   "outputs": [
    {
     "data": {
      "text/plain": [
       "Frozen(SortedKeysDict({'level': 5, 'latc': 360, 'lonc': 396, 'time': 6}))"
      ]
     },
     "execution_count": 41,
     "metadata": {},
     "output_type": "execute_result"
    }
   ],
   "source": [
    "GETM.dims"
   ]
  },
  {
   "cell_type": "code",
   "execution_count": 56,
   "metadata": {
    "collapsed": false
   },
   "outputs": [
    {
     "data": {
      "text/plain": [
       "(360,)"
      ]
     },
     "execution_count": 56,
     "metadata": {},
     "output_type": "execute_result"
    }
   ],
   "source": [
    "GETM.coords['latc'].shape"
   ]
  },
  {
   "cell_type": "code",
   "execution_count": 57,
   "metadata": {
    "collapsed": false
   },
   "outputs": [
    {
     "data": {
      "text/plain": [
       "odict_keys(['title', 'history', 'NCO', 'nco_openmp_thread_number'])"
      ]
     },
     "execution_count": 57,
     "metadata": {},
     "output_type": "execute_result"
    }
   ],
   "source": [
    "GETM.attrs.keys()"
   ]
  },
  {
   "cell_type": "markdown",
   "metadata": {},
   "source": [
    "### Extracting a DataArray from a Dataset"
   ]
  },
  {
   "cell_type": "code",
   "execution_count": 79,
   "metadata": {
    "collapsed": false
   },
   "outputs": [
    {
     "name": "stdout",
     "output_type": "stream",
     "text": [
      "<class 'xarray.core.dataarray.DataArray'>\n"
     ]
    },
    {
     "data": {
      "text/plain": [
       "(6, 5, 360, 396)"
      ]
     },
     "execution_count": 79,
     "metadata": {},
     "output_type": "execute_result"
    }
   ],
   "source": [
    "temp=GETM['temp']\n",
    "print(type( temp ))\n",
    "temp.shape"
   ]
  },
  {
   "cell_type": "markdown",
   "metadata": {},
   "source": [
    "## Accessing data values"
   ]
  },
  {
   "cell_type": "code",
   "execution_count": 87,
   "metadata": {
    "collapsed": false
   },
   "outputs": [
    {
     "data": {
      "text/plain": [
       "<xarray.DataArray 'temp' ()>\n",
       "array(11.532867431640625)\n",
       "Coordinates:\n",
       "    latc     float64 49.9\n",
       "    level    float64 1.0\n",
       "    lonc     float64 -9.5\n",
       "    time     datetime64[ns] 1996-02-01T01:00:00\n",
       "Attributes:\n",
       "    units: degC\n",
       "    long_name: temperature\n",
       "    valid_range: [ -2.  40.]"
      ]
     },
     "execution_count": 87,
     "metadata": {},
     "output_type": "execute_result"
    }
   ],
   "source": [
    "temp[0,0,90,100]"
   ]
  },
  {
   "cell_type": "markdown",
   "metadata": {},
   "source": [
    "## Indexing and selecting data\n",
    "\n",
    "\n",
    "<br>\n",
    "<img src=\"../figures/xarray_indexing_table.png\">\n",
    "\n"
   ]
  },
  {
   "cell_type": "code",
   "execution_count": 138,
   "metadata": {
    "collapsed": false
   },
   "outputs": [
    {
     "name": "stdout",
     "output_type": "stream",
     "text": [
      "(360, 396)\n",
      "(5, 360, 396)\n",
      "(6,)\n",
      "(5, 360, 396)\n"
     ]
    }
   ],
   "source": [
    "print( temp[0,2,:,:].shape )\n",
    "\n",
    "print( temp.loc['1996-02-02T01:00:00',:,:,:].shape )\n",
    "\n",
    "print( temp.isel(level=1,latc=90,lonc=100).shape )\n",
    "\n",
    "print( temp.sel(time='1996-02-02T01:00:00').shape )\n",
    "#temp.loc"
   ]
  },
  {
   "cell_type": "markdown",
   "metadata": {},
   "source": [
    "### Define selection"
   ]
  },
  {
   "cell_type": "code",
   "execution_count": null,
   "metadata": {
    "collapsed": true
   },
   "outputs": [],
   "source": [
    "### Label "
   ]
  },
  {
   "cell_type": "code",
   "execution_count": 147,
   "metadata": {
    "collapsed": false
   },
   "outputs": [
    {
     "data": {
      "text/plain": [
       "<xarray.DataArray 'temp' (time: 6)>\n",
       "array([ 8.44515419,  8.41235542,  8.44612503,  8.43091679,  8.42808151,\n",
       "        8.3733902 ])\n",
       "Coordinates:\n",
       "    latc     float64 50.0\n",
       "    level    float64 1.0\n",
       "    lonc     float64 0.02\n",
       "  * time     (time) datetime64[ns] 1996-02-01T01:00:00 1996-02-02T01:00:00 ...\n",
       "Attributes:\n",
       "    units: degC\n",
       "    long_name: temperature\n",
       "    valid_range: [ -2.  40.]"
      ]
     },
     "execution_count": 147,
     "metadata": {},
     "output_type": "execute_result"
    }
   ],
   "source": [
    "#GETM.sel(level=1)['temp']\n",
    "GETM['temp'].sel(level=1,lonc=0.0,latc=50., method='nearest')"
   ]
  },
  {
   "cell_type": "markdown",
   "metadata": {},
   "source": [
    "### Calculate average along a dimension"
   ]
  },
  {
   "cell_type": "code",
   "execution_count": 54,
   "metadata": {
    "collapsed": false
   },
   "outputs": [],
   "source": [
    "tave=GETM[['temp']].mean('time')\n",
    "\n",
    "plt.contourf(tave['temp'][0,:,:],50)\n",
    "plt.colorbar()\n",
    "plt.show()"
   ]
  },
  {
   "cell_type": "markdown",
   "metadata": {},
   "source": [
    "Dimension lookup \tIndex lookup \tDataArray syntax \tDataset syntax\n",
    "Positional \tBy integer \tarr[:, 0] \tnot available\n",
    "Positional \tBy label \tarr.loc[:, 'IA'] \tnot available\n",
    "By name \tBy integer \tarr.isel(space=0) or\n",
    "arr[dict(space=0)] \tds.isel(space=0) or\n",
    "ds[dict(space=0)]\n",
    "By name \tBy label \tarr.sel(space='IA') or\n",
    "arr.loc[dict(space='IA')] \tds.sel(space='IA') or\n",
    "ds.loc[dict(space='IA')]"
   ]
  }
 ],
 "metadata": {
  "anaconda-cloud": {},
  "celltoolbar": "Slideshow",
  "kernelspec": {
   "display_name": "Python [conda root]",
   "language": "python",
   "name": "conda-root-py"
  },
  "language_info": {
   "codemirror_mode": {
    "name": "ipython",
    "version": 3
   },
   "file_extension": ".py",
   "mimetype": "text/x-python",
   "name": "python",
   "nbconvert_exporter": "python",
   "pygments_lexer": "ipython3",
   "version": "3.5.2"
  }
 },
 "nbformat": 4,
 "nbformat_minor": 0
}
