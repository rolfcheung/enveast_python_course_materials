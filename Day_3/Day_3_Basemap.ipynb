{
 "cells": [
  {
   "cell_type": "code",
   "execution_count": null,
   "metadata": {
    "collapsed": true
   },
   "outputs": [],
   "source": [
    "### Import our plotting library: Matplotlib and call it \"plt\"\n",
    "import matplotlib.pyplot as plt\n",
    "\n",
    "### Import our scientific data library and call it \"np\" \n",
    "import numpy as np\n",
    "\n",
    "### Import our NetCDF library and call it \"Dataset\"\n",
    "from netCDF4 import Dataset\n",
    "\n",
    "### Import our Basemap or 'World Map'\n",
    "from mpl_toolkits.basemap import Basemap"
   ]
  },
  {
   "cell_type": "code",
   "execution_count": null,
   "metadata": {
    "collapsed": true
   },
   "outputs": [],
   "source": [
    "## Load our NetCDF data\n",
    "Marine_data = Dataset(data_set, 'r')"
   ]
  },
  {
   "cell_type": "code",
   "execution_count": null,
   "metadata": {
    "collapsed": true
   },
   "outputs": [],
   "source": [
    "## Load nps and assign it to the variable 'particles'\n",
    "## Print the length(len) of particles(nps)\n",
    "## Prints the shape of particles - very useful to understand how the data is structured.\n",
    "particles = particle_data.dimensions['nps']    \n",
    "print(particles.shape)\n",
    "print (\"Number of particles: \", len(particles)) "
   ]
  },
  {
   "cell_type": "code",
   "execution_count": null,
   "metadata": {
    "collapsed": true
   },
   "outputs": [],
   "source": [
    "## Load Time and assign it to the variable time"
   ]
  },
  {
   "cell_type": "code",
   "execution_count": null,
   "metadata": {
    "collapsed": true
   },
   "outputs": [],
   "source": [
    "time = particle_data.variables['time'][:]\n",
    "print (\"Length of time: \", len(time)) \n",
    "print(\"Shape of time: \", time.shape)"
   ]
  },
  {
   "cell_type": "code",
   "execution_count": null,
   "metadata": {
    "collapsed": true
   },
   "outputs": [],
   "source": [
    "## Load latitude(ipos) and assign it to the variable 'lat'\n",
    "lat = particle_data.variables['ipos'][:]\n",
    "print (\"Length of latitude: \", len(lat)) \n",
    "print(\"Shape of lat: \", lat.shape)"
   ]
  },
  {
   "cell_type": "code",
   "execution_count": null,
   "metadata": {
    "collapsed": true
   },
   "outputs": [],
   "source": [
    "## Load longitude(jpos) and assign it to the variable 'lon'\n",
    "lon = particle_data.variables['jpos'][:]\n",
    "print (\"Length of longitude:\", len(lon))\n",
    "print(\"Shape of lon: \", lon.shape)"
   ]
  },
  {
   "cell_type": "code",
   "execution_count": null,
   "metadata": {
    "collapsed": true
   },
   "outputs": [],
   "source": [
    "## Print to tell us everything has loaded\n",
    "print (\"Particles loaded! Time to smile\")\n",
    "print (\"What does all this mean?\")"
   ]
  },
  {
   "cell_type": "code",
   "execution_count": null,
   "metadata": {
    "collapsed": true
   },
   "outputs": [],
   "source": [
    "## Plot a blank figure with set size\n",
    "fig = plt.figure(figsize=(100,240))"
   ]
  },
  {
   "cell_type": "code",
   "execution_count": null,
   "metadata": {
    "collapsed": true
   },
   "outputs": [],
   "source": [
    "## Define the length of latitude and longitude positions\n",
    "## -1 is because Python always starts at 0 !!! \n",
    "lat_length = len(lat) - 1\n",
    "lon_lenth = len(lon) - 1"
   ]
  },
  {
   "cell_type": "markdown",
   "metadata": {
    "collapsed": true
   },
   "source": [
    "## Plot a basemap of the world \n",
    "* Use a set projection\n",
    "* Central point of interest defined by lon/lat \n",
    "* Resolution of map l=low, h=high\n",
    "\n"
   ]
  },
  {
   "cell_type": "code",
   "execution_count": null,
   "metadata": {
    "collapsed": false
   },
   "outputs": [],
   "source": [
    "m = Basemap(projection='lcc',lon_0=5,lat_0=35,resolution='l')\n",
    "# The basemap is now called 'm'\n",
    "# So everytime we want to plot onto the map, we have to plot with 'm'\n",
    "# See http://matplotlib.org/basemap/users/mapsetup.html for different projections"
   ]
  },
  {
   "cell_type": "markdown",
   "metadata": {
    "collapsed": true
   },
   "source": [
    "How about drawing some coastlines? "
   ]
  },
  {
   "cell_type": "code",
   "execution_count": null,
   "metadata": {
    "collapsed": true
   },
   "outputs": [],
   "source": [
    "## Draw the coastline\n",
    "m.drawcoastlines()"
   ]
  },
  {
   "cell_type": "markdown",
   "metadata": {
    "collapsed": true
   },
   "source": [
    "Draw Latitude and Longitude lines with spacing \n",
    "eg. (np.arange(lat1, lat2, spacing))\n",
    "Remember np allows us to create a list of values between -90 and 120\n",
    "    with a spacing of 15 in this case. "
   ]
  },
  {
   "cell_type": "code",
   "execution_count": null,
   "metadata": {
    "collapsed": true
   },
   "outputs": [],
   "source": [
    "m.drawparallels(np.arange(-90.,120.,15.))\n",
    "m.drawmeridians(np.arange(0.,420.,30.))\n"
   ]
  },
  {
   "cell_type": "markdown",
   "metadata": {
    "collapsed": true
   },
   "source": [
    "## Set the latitude and longitude boundaries of the map"
   ]
  },
  {
   "cell_type": "code",
   "execution_count": null,
   "metadata": {
    "collapsed": true
   },
   "outputs": [],
   "source": [
    "lat1 = 40\n",
    "lat2 = 70\n",
    "lon1 = -20\n",
    "lon2 = 12"
   ]
  },
  {
   "cell_type": "code",
   "execution_count": null,
   "metadata": {
    "collapsed": true
   },
   "outputs": [],
   "source": [
    "## Put these values into the basemap 'm'\n",
    "## This allows us to constrain the basemap \n",
    "## by lat/lon values"
   ]
  },
  {
   "cell_type": "code",
   "execution_count": null,
   "metadata": {
    "collapsed": true
   },
   "outputs": [],
   "source": [
    "xmin, ymin = m(lon1, lat1)\n",
    "xmax, ymax = m(lon2, lat2)"
   ]
  },
  {
   "cell_type": "code",
   "execution_count": null,
   "metadata": {
    "collapsed": true
   },
   "outputs": [],
   "source": [
    "## Plot the axis - min/max\n",
    "ax = plt.gca()\n",
    "ax.set_xlim(xmin, xmax)\n",
    "ax.set_ylim(ymin, ymax)"
   ]
  },
  {
   "cell_type": "code",
   "execution_count": null,
   "metadata": {
    "collapsed": true
   },
   "outputs": [],
   "source": [
    "## Loop through every 'particle' using 'length_particle' \n",
    "## to define how many particles there are. \n",
    "# It does this by replacing 'x' each time \n",
    "# with the new particle number \n",
    "\n",
    "## Now we have a particle, we want to plot it onto a map using 'm.plot'\n",
    "## We plot the lat[at time point '0', particle number 'x'], lon[at time point '0', particle number 'x']\n",
    "## 'red' = colour of the points\n",
    "## latlon=True ensures it is plotted on a lat/lon grid\n",
    "## alpha = size of points\n"
   ]
  },
  {
   "cell_type": "code",
   "execution_count": null,
   "metadata": {
    "collapsed": true
   },
   "outputs": [],
   "source": [
    "for x in range(3):\n",
    "    m.plot(lat[0, x], lon[0, x],'red', alpha=0.5, latlon=True)\n",
    "    print(lat[lat_lenth, x], lon[lon_length, x])"
   ]
  },
  {
   "cell_type": "code",
   "execution_count": null,
   "metadata": {
    "collapsed": true
   },
   "outputs": [],
   "source": [
    "## Show me the plot \n",
    "plt.show()"
   ]
  },
  {
   "cell_type": "code",
   "execution_count": null,
   "metadata": {
    "collapsed": true
   },
   "outputs": [],
   "source": [
    "## Now see if you can make it better:\n",
    "# Plot multiple particles at different time steps on one map\n",
    "# Plot the end position of the particle\n",
    "# map projection\n",
    "# size of particles\n",
    "# position of particles\n",
    "# colour of particles\n",
    "# lat/lon gridlines\n"
   ]
  },
  {
   "cell_type": "code",
   "execution_count": null,
   "metadata": {
    "collapsed": true
   },
   "outputs": [],
   "source": [
    "# Hint\n",
    "#m.plot(lat[lenth, x], lon[length, x], 'blue', alpha=0.5, latlon=True)\n"
   ]
  }
 ],
 "metadata": {
  "anaconda-cloud": {},
  "kernelspec": {
   "display_name": "Python [default]",
   "language": "python",
   "name": "python3"
  },
  "language_info": {
   "codemirror_mode": {
    "name": "ipython",
    "version": 3
   },
   "file_extension": ".py",
   "mimetype": "text/x-python",
   "name": "python",
   "nbconvert_exporter": "python",
   "pygments_lexer": "ipython3",
   "version": "3.5.2"
  }
 },
 "nbformat": 4,
 "nbformat_minor": 1
}
