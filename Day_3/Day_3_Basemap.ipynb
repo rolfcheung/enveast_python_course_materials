{
 "cells": [
  {
   "cell_type": "code",
   "execution_count": null,
   "metadata": {
    "collapsed": true
   },
   "outputs": [],
   "source": [
    "# Import the required libraries\n",
    "import matplotlib.pyplot as plt\n",
    "import numpy as np\n",
    "from netCDF4 import Dataset\n",
    "# This is allows us to plot the world map\n",
    "from mpl_toolkits.basemap import Basemap\n"
   ]
  },
  {
   "cell_type": "code",
   "execution_count": null,
   "metadata": {
    "collapsed": true
   },
   "outputs": [],
   "source": [
    "particle_data = Dataset(load_my_data_set, 'r')"
   ]
  },
  {
   "cell_type": "code",
   "execution_count": null,
   "metadata": {
    "collapsed": true
   },
   "outputs": [],
   "source": [
    "nps = particle_data.dimensions['nps']            # Particle number\n",
    "time = particle_data.variables['time'][:]      \n",
    "lon = particle_data.variables['ipos'][:]    \n",
    "lat = particle_data.variables['jpos'][:]      "
   ]
  },
  {
   "cell_type": "code",
   "execution_count": null,
   "metadata": {
    "collapsed": true
   },
   "outputs": [],
   "source": [
    "fig = plt.figure(figsize=(200,320))"
   ]
  },
  {
   "cell_type": "code",
   "execution_count": null,
   "metadata": {
    "collapsed": true
   },
   "outputs": [],
   "source": [
    "lon_len = len(lon) - 1\n",
    "lat_len = len(lat) - 1"
   ]
  },
  {
   "cell_type": "markdown",
   "metadata": {
    "collapsed": true
   },
   "source": [
    "## Plot a basemap of the world \n",
    "* Use a set projection\n",
    "* Central point of interest defined by lon/lat \n",
    "* Resolution of map l=low, h=high\n",
    "\n"
   ]
  },
  {
   "cell_type": "code",
   "execution_count": null,
   "metadata": {
    "collapsed": true
   },
   "outputs": [],
   "source": [
    "m = Basemap(projection='ortho',lon_0=5,lat_0=35,resolution='l')"
   ]
  },
  {
   "cell_type": "markdown",
   "metadata": {
    "collapsed": true
   },
   "source": [
    "#### Set the latitude and longitude boundaries of the map"
   ]
  },
  {
   "cell_type": "code",
   "execution_count": null,
   "metadata": {
    "collapsed": true
   },
   "outputs": [],
   "source": [
    "# Let's define our map boundaries\n",
    "lon_1 = -18\n",
    "lon_2 = 8\n",
    "\n",
    "lat_1 = 68\n",
    "lat_2 = 44\n",
    "\n",
    "# Now to transform the coordinates to map projection 'm'\n",
    "xmin, ymin = m(lon_1, lat_2)\n",
    "xmax, ymax = m(lon_2, lat_1)"
   ]
  },
  {
   "cell_type": "code",
   "execution_count": null,
   "metadata": {
    "collapsed": true
   },
   "outputs": [],
   "source": [
    "# set the axes limits according to the lat/lons above\n",
    "ax = plt.gca()\n",
    "ax.set_xlim(xmin, xmax)\n",
    "ax.set_ylim(ymin, ymax)"
   ]
  },
  {
   "cell_type": "markdown",
   "metadata": {
    "collapsed": true
   },
   "source": [
    "How about drawing some coastlines? "
   ]
  },
  {
   "cell_type": "code",
   "execution_count": null,
   "metadata": {
    "collapsed": true
   },
   "outputs": [],
   "source": [
    "m.drawcoastlines()\n",
    "#m.etopo()"
   ]
  },
  {
   "cell_type": "markdown",
   "metadata": {
    "collapsed": true
   },
   "source": [
    "Draw Latitude and Longitude lines with spacing \n",
    "eg. (np.arange(lat1, lat2, spacing))\n",
    "Remember np allows us to create a list of values between -90 and 120\n",
    "    with a spacing of 15 in this case. "
   ]
  },
  {
   "cell_type": "code",
   "execution_count": null,
   "metadata": {
    "collapsed": true
   },
   "outputs": [],
   "source": [
    "m.drawparallels(np.arange(-90.,120.,15.))\n",
    "m.drawmeridians(np.arange(0.,420.,30.))"
   ]
  },
  {
   "cell_type": "code",
   "execution_count": null,
   "metadata": {
    "collapsed": true
   },
   "outputs": [],
   "source": [
    "# Plots start and finish as points  \n",
    "    #for x in range(0, len(nps), subsampling):\n",
    "for x in range(len(nps)):\n",
    "    m.plot(lon[0, x], lat[0, x],'ro',  latlon=True)\n",
    "    m.plot(lon[lon_len, x], lat[lat_len, x], 'bo', alpha=0.5, latlon=True)\n",
    "\n",
    "## Loop through every 'particle' using 'length_particle' \n",
    "\n",
    "## Now we have a particle, we want to plot it onto a map using 'm.plot'\n",
    "## We plot the lat[at time point '0', particle number 'x'], lon[at time point '0', particle number 'x']\n",
    "## 'red' = colour of the points\n",
    "## latlon=True ensures it is plotted on a lat/lon grid\n",
    "## alpha = size of points\n"
   ]
  },
  {
   "cell_type": "code",
   "execution_count": null,
   "metadata": {
    "collapsed": true
   },
   "outputs": [],
   "source": [
    "## Show me the plot \n",
    "plt.show()"
   ]
  },
  {
   "cell_type": "markdown",
   "metadata": {
    "collapsed": true
   },
   "source": [
    "## Now see if you can make it better:\n",
    "* Plot multiple particles at different time steps on one map\n",
    "* Plot the end position of the particle\n",
    "* map projection\n",
    "* size of particles\n",
    "* position of particles\n",
    "* colour of particles\n",
    "* lat/lon gridlines\n"
   ]
  },
  {
   "cell_type": "code",
   "execution_count": null,
   "metadata": {
    "collapsed": true
   },
   "outputs": [],
   "source": [
    "# Hint\n",
    "#m.plot(lat[lenth, x], lon[length, x], 'blue', alpha=0.5, latlon=True)\n"
   ]
  }
 ],
 "metadata": {
  "anaconda-cloud": {},
  "kernelspec": {
   "display_name": "Python [default]",
   "language": "python",
   "name": "python3"
  },
  "language_info": {
   "codemirror_mode": {
    "name": "ipython",
    "version": 3
   },
   "file_extension": ".py",
   "mimetype": "text/x-python",
   "name": "python",
   "nbconvert_exporter": "python",
   "pygments_lexer": "ipython3",
   "version": "3.5.2"
  }
 },
 "nbformat": 4,
 "nbformat_minor": 1
}
