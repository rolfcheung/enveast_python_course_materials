{
 "cells": [
  {
   "cell_type": "markdown",
   "metadata": {},
   "source": [
    "# Python Language Syntax"
   ]
  },
  {
   "cell_type": "markdown",
   "metadata": {},
   "source": [
    "* Python was originally developed as a teaching language\n",
    "\n",
    "* The cleanliness of Python's syntax has led some to call it \"executable pseudocode\""
   ]
  },
  {
   "cell_type": "markdown",
   "metadata": {},
   "source": [
    "Syntax refers to the structure of the language (i.e., what constitutes a correctly-formed program).\n",
    "For the time being, we'll not focus on the semantics - the meaning of the words and symbols within the syntax - but will return to this at a later point."
   ]
  },
  {
   "cell_type": "markdown",
   "metadata": {},
   "source": [
    "## Example\n",
    "\n",
    "Consider the following code example:"
   ]
  },
  {
   "cell_type": "code",
   "execution_count": null,
   "metadata": {
    "collapsed": false
   },
   "outputs": [],
   "source": [
    "# set the midpoint\n",
    "midpoint = 5\n",
    "\n",
    "# make two empty lists\n",
    "lower = []; upper = []\n",
    "\n",
    "# split the numbers into lower and upper\n",
    "for i in range(10):\n",
    "    if (i < midpoint):\n",
    "        lower.append(i)\n",
    "    else:\n",
    "        upper.append(i)\n",
    "        \n",
    "print(\"lower:\", lower)\n",
    "print(\"upper:\", upper)"
   ]
  },
  {
   "cell_type": "markdown",
   "metadata": {},
   "source": [
    "This script is a bit silly, but it compactly illustrates several of the important aspects of Python syntax.\n",
    "Let's walk through it and discuss some of the syntactical features of Python"
   ]
  },
  {
   "cell_type": "markdown",
   "metadata": {},
   "source": [
    "## Below we are going to go through line by line \n",
    "## to understand what is going on.\n",
    "\n"
   ]
  },
  {
   "cell_type": "markdown",
   "metadata": {},
   "source": [
    "## Comments Are Marked by ``#``\n",
    "The script starts with a comment (this means that python won't read this line....very useful!):\n",
    "``` python\n",
    "# set the midpoint\n",
    "```\n",
    "Comments in Python are indicated by a numbers sign (``#``), and anything on the line following the numbers sign is ignored by the interpreter.\n",
    "This means, for example, that you can have stand-alone comments like the one just shown, as well as inline comments that follow a statement. For example:\n",
    "``` python\n",
    "x += 2  # shorthand for x = x + 2\n",
    "```\n",
    "So above, Python reads the first bit of code, but ignores the 'comment' \n",
    "\n",
    "Python does not have any syntax for multi-line comments, such as the ``/* ... */`` syntax used in C and C++, though multi-line strings are often used as a replacement for multi-line comments."
   ]
  },
  {
   "cell_type": "markdown",
   "metadata": {},
   "source": [
    "## End-of-Line Terminates a Statement\n",
    "The next line in the script is\n",
    "``` python\n",
    "midpoint = 5\n",
    "```\n",
    "This is an assignment operation, where we've created a variable named ``midpoint`` and assigned it the value ``5``.\n",
    "Notice that the end of this statement is simply marked by the end of the line.\n",
    "This is in contrast to languages like C and C++, where every statement must end with a semicolon (``;``).\n",
    "Python therefore makes this easyier for us! \n",
    "\n",
    "In Python, if you'd like a statement to continue to the next line, it is possible to use the \"``\\``\" marker to indicate this:"
   ]
  },
  {
   "cell_type": "code",
   "execution_count": null,
   "metadata": {
    "collapsed": false
   },
   "outputs": [],
   "source": [
    "x = 1 + 2 + 3 + 4 +\\\n",
    "    5 + 6 + 7 + 8"
   ]
  },
  {
   "cell_type": "markdown",
   "metadata": {},
   "source": [
    "It is also possible to continue expressions on the next line within parentheses (or brackets), without using the \"``\\``\" marker:"
   ]
  },
  {
   "cell_type": "code",
   "execution_count": null,
   "metadata": {
    "collapsed": false
   },
   "outputs": [],
   "source": [
    "x = (1 + 2 + 3 + 4 +\n",
    "     5 + 6 + 7 + 8)"
   ]
  },
  {
   "cell_type": "markdown",
   "metadata": {},
   "source": [
    "The best way is to use the line continuation (within parentheses)."
   ]
  },
  {
   "cell_type": "markdown",
   "metadata": {},
   "source": [
    "## Semicolon Can Optionally Terminate a Statement\n",
    "Sometimes it can be useful to put multiple statements on a single line.\n",
    "The next portion of the script is\n",
    "``` python\n",
    "lower = []; upper = []\n",
    "```\n",
    "This shows the example of how the semicolon (``;``) familiar in C can be used optionally in Python to put two statements on a single line.\n",
    "\n",
    "This is exactly the same as writing the below in python:\n",
    "``` python\n",
    "lower = []\n",
    "upper = []\n",
    "```\n",
    "Using a semicolon to put multiple statements on a single line is generally discouraged by most Python style guides, though occasionally it proves convenient."
   ]
  },
  {
   "cell_type": "markdown",
   "metadata": {},
   "source": [
    "## Indentation: Whitespace Matters!\n",
    "Next, we get to the main block of code and are probably thinking what on Earth does this mean!\n",
    "\n",
    "Well luckily we are going to tell you.\n",
    "``` Python\n",
    "for i in range(10):\n",
    "    if i < midpoint:\n",
    "        lower.append(i)\n",
    "    else:\n",
    "        upper.append(i)\n",
    "```\n",
    "This is a compound control-flow statement including a loop and a conditional – we'll look at these types of statements in a moment.\n",
    "For now, consider that this demonstrates what is perhaps the most controversial feature of Python's syntax: whitespace is meaningful!\n",
    "\n",
    "In programming languages, a *block* of code is a set of statements that should be treated as a unit.\n",
    "In C, for example, code blocks are denoted by curly braces:\n",
    "``` C\n",
    "// C code\n",
    "for(int i=0; i<100; i++)\n",
    "   {\n",
    "      // curly braces indicate code block\n",
    "      total += i;\n",
    "   }\n",
    "```\n",
    "In Python, code blocks are denoted by *indentation*:\n",
    "``` python\n",
    "for i in range(100):\n",
    "    # indentation indicates code block\n",
    "    total += i\n",
    "```\n",
    "In Python, indented code blocks are always preceded by a colon (``:``) on the previous line.\n",
    "\n",
    "## In a Nut-Shell\n",
    "What this means is that, when using python we need to use indentation (or more specific - 4 spaces!) \n",
    "\n",
    "The top line will be the controlling statement. \n",
    "\n",
    "Anything indendted below this top line will occur within it. \n",
    "\n",
    "Four spaces are required under some systems as they do not interpret indentation properly...so be careful! "
   ]
  },
  {
   "cell_type": "markdown",
   "metadata": {},
   "source": [
    "\n",
    "\n",
    "The use of indentation helps to enforce the uniform, readable style that many find appealing in Python code.\n",
    "But it might be confusing to the uninitiated; for example, the following two snippets will produce different results:\n",
    "```python\n",
    ">>> if x < 4:         >>> if x < 4:\n",
    "...     y = x * 2     ...     y = x * 2\n",
    "...     print(x)      ... print(x)\n",
    "```\n",
    "In the snippet on the left, ``print(x)`` is in the indented block, and will be executed only if ``x`` is less than ``4``.\n",
    "In the snippet on the right ``print(x)`` is outside the block, and will be executed regardless of the value of ``x``!\n",
    "\n",
    "Try it out below to see:\n",
    "(What is the difference?)"
   ]
  },
  {
   "cell_type": "code",
   "execution_count": null,
   "metadata": {
    "collapsed": false
   },
   "outputs": [],
   "source": [
    "x = 5\n",
    "if x < 4:         \n",
    "    y = x * 2    \n",
    "    print(x) "
   ]
  },
  {
   "cell_type": "code",
   "execution_count": null,
   "metadata": {
    "collapsed": false
   },
   "outputs": [],
   "source": [
    "x = 5\n",
    "if x < 4:         \n",
    "    y = x * 2   \n",
    "print(x) "
   ]
  },
  {
   "cell_type": "markdown",
   "metadata": {},
   "source": [
    "Python's use of meaningful whitespace often is surprising to progammers who are accustomed to other languages, but in practice it can lead to much more consistent and readable code than languages that do not enforce indentation of code blocks.\n",
    "If you find Python's use of whitespace disagreeable, I'd encourage you to give it a try: as I did, you may find that you come to appreciate it.\n",
    "\n",
    "Finally, you should be aware that the *amount* of whitespace used for indenting code blocks is up to the user, as long as it is consistent throughout the script.\n",
    "By convention, most style guides recommend to indent code blocks by four spaces, and that is the convention we will follow in this report.\n",
    "Note that many text editors like Emacs and Vim contain Python modes that do four-space indentation automatically."
   ]
  },
  {
   "cell_type": "markdown",
   "metadata": {},
   "source": [
    "## Whitespace *Within* Lines Does Not Matter\n",
    "While the mantra of *meaningful whitespace* holds true for whitespace *before* lines (which indicate a code block), white space *within* lines of Python code does not matter.\n",
    "For example, all three of these expressions are equivalent:"
   ]
  },
  {
   "cell_type": "code",
   "execution_count": null,
   "metadata": {
    "collapsed": false
   },
   "outputs": [],
   "source": [
    "x=1+2\n",
    "x = 1 + 2\n",
    "x             =        1    +                2"
   ]
  },
  {
   "cell_type": "markdown",
   "metadata": {},
   "source": [
    "Abusing this flexibility can lead to issues with code readibility – in fact, abusing white space is often one of the primary means of intentionally obfuscating code (which some people do for sport).\n",
    "Using whitespace effectively can lead to much more readable code, \n",
    "especially in cases where operators follow each other – compare the following two expressions for exponentiating by a negative number:\n",
    "``` python\n",
    "x=10**-2\n",
    "```\n",
    "to\n",
    "``` python\n",
    "x = 10 ** -2\n",
    "```\n",
    "I find the second version with spaces much more easily readable at a single glance.\n",
    "Most Python style guides recommend using a single space around binary operators, and no space around unary operators.\n",
    "We'll discuss Python's operators further in [Basic Python Semantics: Operators](04-Semantics-Operators.ipynb)."
   ]
  },
  {
   "cell_type": "markdown",
   "metadata": {},
   "source": [
    "## Parentheses Are for Grouping or Calling\n",
    "\n",
    "In the previous code snippet, we see two uses of parentheses.\n",
    "First, they can be used in the typical way to group statements or mathematical operations:"
   ]
  },
  {
   "cell_type": "code",
   "execution_count": null,
   "metadata": {
    "collapsed": false
   },
   "outputs": [],
   "source": [
    "2 * (3 + 4)"
   ]
  },
  {
   "cell_type": "markdown",
   "metadata": {},
   "source": [
    "They can also be used to indicate that a *function* is being called.\n",
    "In the next snippet, the ``print()`` function is used to display the contents of a variable (see the sidebar).\n",
    "The function call is indicated by a pair of opening and closing parentheses, with the *arguments* to the function contained within:"
   ]
  },
  {
   "cell_type": "code",
   "execution_count": null,
   "metadata": {
    "collapsed": false
   },
   "outputs": [],
   "source": [
    "print('first value:', 1)"
   ]
  },
  {
   "cell_type": "code",
   "execution_count": null,
   "metadata": {
    "collapsed": false
   },
   "outputs": [],
   "source": [
    "print('second value:', 2)"
   ]
  },
  {
   "cell_type": "markdown",
   "metadata": {},
   "source": [
    "Some functions can be called with no arguments at all, in which case the opening and closing parentheses still must be used to indicate a function evaluation.\n",
    "An example of this is the ``sort`` method of lists:"
   ]
  },
  {
   "cell_type": "code",
   "execution_count": null,
   "metadata": {
    "collapsed": false
   },
   "outputs": [],
   "source": [
    "L = [4,2,3,1]\n",
    "L.sort()\n",
    "print(L)"
   ]
  },
  {
   "cell_type": "markdown",
   "metadata": {},
   "source": [
    "The \"``()``\" after ``sort`` indicates that the function should be executed, and is required even if no arguments are necessary."
   ]
  },
  {
   "cell_type": "markdown",
   "metadata": {},
   "source": [
    "## Strings! \n",
    "\n",
    "One of the most simple and important aspects of python you will be using constantly, will be strings! \n",
    "\n",
    "Strings are designated by single or double quotation marks. \n",
    "\n",
    "``` python\n",
    "\n",
    "\"This is my python string\" \n",
    "\n",
    "'This is my second python string'\n",
    "``` \n",
    "\n",
    "We will be using 'strings' throughout our whole python lifetime. \n",
    "\n",
    "Things to remember:\n",
    "1) Strings are not numbers. You'd have to convert them to a number. \n",
    "\n"
   ]
  },
  {
   "cell_type": "code",
   "execution_count": null,
   "metadata": {
    "collapsed": false
   },
   "outputs": [],
   "source": [
    "x = \"4\" \n",
    "print(\"String: \", type(x),      x)\n",
    "\n",
    "x = int(x)\n",
    "print(\"Integer: \", type(x),    x)\n",
    "\n",
    "x = float(x)\n",
    "print(\"Float: \", type(x),    x)"
   ]
  },
  {
   "cell_type": "markdown",
   "metadata": {},
   "source": [
    "## Aside: A Note on the ``print()`` Function\n",
    "\n",
    "Above we used the example of the ``print()`` function.\n",
    "The ``print()`` function is one piece that has changed between Python *2.x* and Python *3.x*. In Python 2, ``print`` behaved as a statement: that is, you could write\n",
    "``` python\n",
    "# Python 2 only!\n",
    ">> print \"first value:\", 1\n",
    "first value: 1\n",
    "```\n",
    "For various reasons, the language maintainers decided that in Python 3 ``print()`` should become a function, so we now write\n",
    "``` python\n",
    "# Python 3 only!\n",
    ">>> print(\"first value:\", 1)\n",
    "first value: 1\n",
    "```\n",
    "This is one of the many backward-incompatible constructs between Python 2 and 3."
   ]
  },
  {
   "cell_type": "markdown",
   "metadata": {},
   "source": [
    "## References\n",
    "* The most widely used style guide in Python is known as PEP8, and can be found at https://www.python.org/dev/peps/pep-0008/.\n",
    "\n",
    "* *A Whirlwind Tour of Python* by Jake VanderPlas (O’Reilly). Copyright 2016 O’Reilly Media, Inc., 978-1-491-96465-1"
   ]
  }
 ],
 "metadata": {
  "anaconda-cloud": {},
  "kernelspec": {
   "display_name": "Python [default]",
   "language": "python",
   "name": "python3"
  },
  "language_info": {
   "codemirror_mode": {
    "name": "ipython",
    "version": 3
   },
   "file_extension": ".py",
   "mimetype": "text/x-python",
   "name": "python",
   "nbconvert_exporter": "python",
   "pygments_lexer": "ipython3",
   "version": "3.5.2"
  }
 },
 "nbformat": 4,
 "nbformat_minor": 0
}
