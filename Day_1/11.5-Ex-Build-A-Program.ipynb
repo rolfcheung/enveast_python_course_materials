# Here is the solution # 


import numpy as np

#### Here we are setting the range of the values we want to investigate
Temp_range = range(6,9)     # Temperature values
Sal_range = range(0,36)    # Salinity values
U10 = range(0,20)           # Wind speed at 10m 

    # # # # # # # # # # # # # # # # # # # # # # # # # # # # #
    
def o2_sat(Temp, Sal):
    """ Calculate O2 saturation in the ocean """
    A0 = 2.00907
    A1 = 3.22014
    A2 = 4.05010
    A3 = 4.94457
    A4 = -0.256847
    A5 = 3.88767
    B0 = -0.00624523
    B1 = -0.00737614
    B2 = -0.0103410
    B3 = -0.00817083
    C0 = -4.88682*10e-7
    
# The two lines below need input values for them to work. How are you going to 'pass' theese input values to them? 
    Ts = np.log((298.15 - Temp) / (273.15 + Temp))
    if Sal > 32:
        O2 = A0 + (A1*Ts) + (A2*Ts**2) + (A3 * Ts**3) + (A4 * Ts**4) + (A5 * Ts**5) + Sal * (B0 + (B1 * Ts) + (B2 * Ts**2) + (B3 * Ts**3)) + (C0 * Sal**2)
        print("%.3f" % O2, "uMol/l   SST = ", Temp, "oC    Salinity = ", Sal)
    else:
        pass
    
    # # # # # # # # # # # # # # # # # # # # # # # # # # # # #

def calc_heat_flux(U10, SST, p=1.2, Cp=1004, L=0.0012, T1=17):
    """ Calculate air potential temperature """
    while 7 < U10 < 11:
        heat_flux = round(p * Cp * L * U10 * (T1 - SST))
        print("Heat flux = ", heat_flux, "W/m2    U10 = ", U10, "m/s      SST = ", SST, "oC")
        return heat_flux

    # # # # # # # # # # # # # # # # # # # # # # # # # # # # #

## Lets define our first loop into the O2 saturation
# Define function
def O2_loop(Temp_range):  
    """ Loop over different temperatures and calculate O2 saturation """
    print("Oxygen saturation equation")
    # loop over all values in temperature range
    for i in Temp_range:
        # loop over all values in salinity range
        for x in Sal_range:
            # calculate O2 saturation for each temp/salinity value 
            o2_sat(i, x)            
        
    # # # # # # # # # # # # # # # # # # # # # # # # # # # # #

def heat_loop(Temp_range):
    """ Loop over different temperatures and calculate heat flux of the ocean """
    print("Heat Flux equation")
    # loop over all values in temperature range
    for i in Temp_range: 
        # loop over all values in U10(wind) range
        for j in U10:
            calc_heat_flux(j, i)

    # # # # # # # # # # # # # # # # # # # # # # # # # # # # #

def main():
    """ Run the program with the desired temperature range """
    O2_loop(Temp_range)
    print("\n")
    heat_loop(Temp_range)
            
    # # # # # # # # # # # # # # # # # # # # # # # # # # # # #

if __name__ == "__main__":
    main()
